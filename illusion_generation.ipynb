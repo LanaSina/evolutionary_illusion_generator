{
  "nbformat": 4,
  "nbformat_minor": 0,
  "metadata": {
    "colab": {
      "provenance": [],
      "private_outputs": true
    },
    "kernelspec": {
      "name": "python3",
      "display_name": "Python 3"
    },
    "accelerator": "GPU"
  },
  "cells": [
    {
      "cell_type": "markdown",
      "metadata": {
        "id": "MJX1PSidS0qg"
      },
      "source": [
        "Check python version\n",
        "\n",
        "change python version through menu: Runtime -> Change runtime type\n",
        "\n",
        "choose python 3 and gpu"
      ]
    },
    {
      "cell_type": "markdown",
      "metadata": {
        "id": "7yvE7BU0S8jK"
      },
      "source": [
        "Mount drive"
      ]
    },
    {
      "cell_type": "code",
      "metadata": {
        "id": "MOpbh84DTJBT"
      },
      "source": [
        "from google.colab import drive\n",
        "drive.mount('/content/drive')"
      ],
      "execution_count": null,
      "outputs": []
    },
    {
      "cell_type": "markdown",
      "metadata": {
        "id": "JbSxf0ZkTUeq"
      },
      "source": [
        "Install libraries"
      ]
    },
    {
      "cell_type": "code",
      "metadata": {
        "id": "NTqIZgX1TQ2C"
      },
      "source": [
        "%pip install -U PyYAML\n",
        "%pip install neat-python torch\n",
        "%pip install chainer\n",
        "# donwgrade numpy\n",
        "%pip install --upgrade numpy==1.25.2\n",
        "# downgrade setuptools\n",
        "%pip install \"setuptools <65\"\n",
        "\n",
        "# might become necessary later\n",
        "# pip install 'cupy-cuda111>=7.7.0,<8.0.0'"
      ],
      "execution_count": null,
      "outputs": []
    },
    {
      "cell_type": "markdown",
      "metadata": {
        "id": "FOUptJQYTf1Q"
      },
      "source": [
        "Pull code from github"
      ]
    },
    {
      "cell_type": "code",
      "metadata": {
        "id": "EdrqBPBsTiGP"
      },
      "source": [
        "!rm -r illusion_evolver\n",
        "!git clone https://github.com/LanaSina/illusion_evolver.git -b cleanup --recurse-submodules"
      ],
      "execution_count": null,
      "outputs": []
    },
    {
      "cell_type": "code",
      "source": [
        "# use in case of weird colab encoding error on shell commands\n",
        "import locale\n",
        "print(locale.getpreferredencoding())\n",
        "\n",
        "def getpreferredencoding(do_setlocale = True):\n",
        "    return \"UTF-8\"\n",
        "locale.getpreferredencoding = getpreferredencoding\n",
        "\n",
        "print(locale.getpreferredencoding())\n"
      ],
      "metadata": {
        "id": "kjZxWnEKCSXs"
      },
      "execution_count": null,
      "outputs": []
    },
    {
      "cell_type": "markdown",
      "metadata": {
        "id": "-c_gF4bbT7n1"
      },
      "source": [
        "Download prediction model.\n",
        "\n",
        "black and white model: https://doi.org/10.6084/m9.figshare.13280120\n",
        "\n",
        "color model: https://figshare.com/articles/Sample_Weight_Model_Front_Psychol_15_March_2018_/11931222\n",
        "\n",
        "Then drag and drop to the left of this screen, or save in your google drive and change the path below to your own drive."
      ]
    },
    {
      "cell_type": "code",
      "metadata": {
        "id": "DCOi5IhNT_hU"
      },
      "source": [
        "# color\n",
        "!cp '/content/drive/My Drive/AI/prednet_private/models/fpsi_500000_20v.model' '.'\n",
        "\n",
        "# black and white\n",
        "#!cp '/content/drive/My Drive/AI/prednet_private/models/black_and_white/300000_wb.model' '.'"
      ],
      "execution_count": null,
      "outputs": []
    },
    {
      "cell_type": "markdown",
      "metadata": {
        "id": "epZObJN7TzjW"
      },
      "source": [
        "Generate illusions. The results will be saved to the \"results\" folder on the left. Stop the algorithm whenever you are satistified.\n"
      ]
    },
    {
      "cell_type": "code",
      "metadata": {
        "id": "ysVV244ZT1Jo"
      },
      "source": [
        "!rm -r \"results\"\n",
        "!rm -r \"temp\"\n",
        "\n",
        "# argument '-s': Type of illusion. 0: Bands; 1: Circles (default=0)\n",
        "# g: gradient. 0 = no gradient, 1 = with gradient\n",
        "# color\n",
        "%run 'illusion_evolver/generate_illusion.py' -m 'fpsi_500000_20v.model' -s 1 -o './results' -g 1\n",
        "\n",
        "# black and white\n",
        "# %run 'illusion_evolver/generate_illusion.py' -m '300000_wb.model' -s 1 -c 1 -o './results' --channels \"1,16,32,64\" -g 1\n",
        "\n",
        "# black and white without gradient\n",
        "# %run 'illusion_evolver/generate_illusion.py' -m '300000_wb.model' -s 1 -c 1 -o './results' --channels \"1,16,32,64\" -g 0"
      ],
      "execution_count": null,
      "outputs": []
    },
    {
      "cell_type": "markdown",
      "metadata": {
        "id": "cL-5BWXaI6wJ"
      },
      "source": [
        "Dowload results by left-click and \"save image as\", or download whole folder.\n",
        "\n"
      ]
    },
    {
      "cell_type": "code",
      "metadata": {
        "id": "Vc8eZuCuJLQJ"
      },
      "source": [
        "# download images\n",
        "!zip -r \"results.zip\" \"results\"\n",
        "from google.colab import files\n",
        "files.download('results.zip')"
      ],
      "execution_count": null,
      "outputs": []
    },
    {
      "cell_type": "markdown",
      "metadata": {
        "id": "YtzBLK5iI1q5"
      },
      "source": [
        "Get the visual flow and fitness score of an image (no tiling)"
      ]
    },
    {
      "cell_type": "code",
      "source": [
        "from illusion_evolver import fitness_calculator\n",
        "import os\n",
        "from PIL import Image\n",
        "\n",
        "# resize\n",
        "image_path = 'single-snake.jpg'\n",
        "model_name = 'fpsi_500000_20v.model'\n",
        "channels = [3,48,96,192]\n",
        "\n",
        "if not os.path.exists(\"predictions/\"):\n",
        "    os.makedirs(\"predictions/\")\n",
        "\n",
        "image = Image.open(image_path).convert('RGB')\n",
        "#resize with padding rather than squish\n",
        "maxwidth = 160\n",
        "maxheight = 120\n",
        "wpercent = min(maxwidth/image.width, maxheight/image.height)\n",
        "wsize = int((float(image.width) * float(wpercent)))\n",
        "hsize = int((float(image.height) * float(wpercent)))\n",
        "image = image.resize((wsize, hsize), Image.Resampling.LANCZOS)\n",
        "#image.save(\"output.png\")\n",
        "# pad with white\n",
        "result = Image.new(image.mode, (maxwidth, maxheight), (255, 255, 255))\n",
        "left = (int)((maxwidth-wsize)/2)\n",
        "top = (int)((maxheight-hsize)/2)\n",
        "result.paste(image, (left, top))\n",
        "result.save(\"resized_image.png\")\n",
        "\n",
        "# image = image.resize((160,120))\n",
        "size = [maxwidth,maxheight]\n",
        "# image.save(\"resized_image.png\")"
      ],
      "metadata": {
        "id": "mqIiM_eKkCOl"
      },
      "execution_count": null,
      "outputs": []
    },
    {
      "cell_type": "code",
      "source": [
        "vectors = fitness_calculator.get_vectors(\"resized_image.png\", model_name, size[0], size[1])\n",
        "\n",
        "score = fitness_calculator.calculate_fitness(structure = 1, vectors = vectors,\n",
        "                                             image_path=\"resized_image.png\",\n",
        "                                             w = 160, h = 120\n",
        "                                             )\n",
        "print(score)"
      ],
      "metadata": {
        "id": "AxCDV2ZKol_0"
      },
      "execution_count": null,
      "outputs": []
    },
    {
      "cell_type": "code",
      "source": [
        "from illusion_evolver.optical_flow.optical_flow import lucas_kanade\n",
        "from illusion_evolver import fitness_calculator\n",
        "\n",
        "results = lucas_kanade(\"resized_image.jpg\", \"predictions/0000000000.png\", \"flow/\", save=True)\n",
        "\n",
        "if results[\"vectors\"]:\n",
        "    original_vectors = np.asarray(results[\"vectors\"])\n",
        "else:\n",
        "    original_vectors = [[0,0,-1000,0]]\n",
        "\n",
        "final_score = -100\n",
        "temp_index = -1\n",
        "mean_score = 0\n",
        "score = 0\n",
        "index = 0\n",
        "if(len(original_vectors[index])>0):\n",
        "    # bonus\n",
        "    score = score + 0.1\n",
        "    ratio = plausibility_ratio(original_vectors[index])\n",
        "    score_0 = ratio[0]\n",
        "    good_vectors = ratio[1]\n",
        "\n",
        "    if(len(good_vectors)>0):\n",
        "        score = score + 0.1\n",
        "        step = h/2\n",
        "        y = 0\n",
        "        count = 0\n",
        "        score_2 = [None]*2\n",
        "        while y<h:\n",
        "            limit = [y, y+step]\n",
        "            score_2[count] = direction_ratio(good_vectors, limit)\n",
        "            y = y + step\n",
        "            count = count + 1\n",
        "\n",
        "        # bonus points\n",
        "        if(score_2[0]*score_2[1]<0):\n",
        "            # is the ideal number of vectors\n",
        "            temp = 24 - len(good_vectors)\n",
        "            if(temp==0):\n",
        "                n_dist = 1\n",
        "            else:\n",
        "                n_dist = 1/temp*temp\n",
        "            score = score + n_dist*(abs(score_2[0]) + abs(score_2[1]))/2\n",
        "            mean_score = mean_score + score\n",
        "\n",
        "print(\"fitness score\", score)"
      ],
      "metadata": {
        "id": "Wm08vECvfZax"
      },
      "execution_count": null,
      "outputs": []
    },
    {
      "cell_type": "code",
      "metadata": {
        "id": "jaj83PxZe1pT"
      },
      "source": [
        "%run \"illusion_evolver/optical_flow/optical_flow.py\" \"resized_image.jpg\" \"predictions/0000000000.png\" -s 0 -l 1 -cc yellow -lc red -s 2 -l 2 -vs 60.0"
      ],
      "execution_count": null,
      "outputs": []
    }
  ]
}