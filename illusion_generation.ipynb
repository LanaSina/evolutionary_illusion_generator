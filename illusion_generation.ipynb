{
  "nbformat": 4,
  "nbformat_minor": 0,
  "metadata": {
    "colab": {
      "name": "eigenpaper_illusion_generation.ipynb",
      "provenance": [],
      "private_outputs": true,
      "collapsed_sections": []
    },
    "kernelspec": {
      "name": "python3",
      "display_name": "Python 3"
    },
    "accelerator": "GPU"
  },
  "cells": [
    {
      "cell_type": "markdown",
      "metadata": {
        "id": "MJX1PSidS0qg"
      },
      "source": [
        "Check python version \n",
        "\n",
        "change python version through menu: Runtime -> Change runtime type\n",
        "\n",
        "choose python 3 and gpu"
      ]
    },
    {
      "cell_type": "code",
      "metadata": {
        "id": "2ee7MrdjSq2M"
      },
      "source": [
        "# change python version through menu: Runtime -> Change runtime type\n",
        "# choose python 3 and gpu\n",
        "import sys\n",
        "print(sys.version)"
      ],
      "execution_count": null,
      "outputs": []
    },
    {
      "cell_type": "markdown",
      "metadata": {
        "id": "7yvE7BU0S8jK"
      },
      "source": [
        "Mount drive "
      ]
    },
    {
      "cell_type": "code",
      "metadata": {
        "id": "MOpbh84DTJBT"
      },
      "source": [
        "from google.colab import drive\n",
        "drive.mount('/content/drive')"
      ],
      "execution_count": null,
      "outputs": []
    },
    {
      "cell_type": "markdown",
      "metadata": {
        "id": "JbSxf0ZkTUeq"
      },
      "source": [
        "Install libraries"
      ]
    },
    {
      "cell_type": "code",
      "metadata": {
        "id": "NTqIZgX1TQ2C"
      },
      "source": [
        "%pip install -U PyYAML\n",
        "%pip install neat-python torch\n",
        "%pip install chainer\n",
        "# might become necessary later\n",
        "# pip install 'cupy-cuda111>=7.7.0,<8.0.0'"
      ],
      "execution_count": null,
      "outputs": []
    },
    {
      "cell_type": "markdown",
      "metadata": {
        "id": "FOUptJQYTf1Q"
      },
      "source": [
        "Pull code from github"
      ]
    },
    {
      "cell_type": "code",
      "metadata": {
        "id": "EdrqBPBsTiGP"
      },
      "source": [
        " !rm -r illusion_evolver\n",
        " !git clone https://github.com/LanaSina/illusion_evolver.git --recurse-submodules"
      ],
      "execution_count": null,
      "outputs": []
    },
    {
      "cell_type": "markdown",
      "metadata": {
        "id": "-c_gF4bbT7n1"
      },
      "source": [
        "Download prediction models: https://figshare.com/articles/dataset/Illusions_Models/19874077\n",
        "\n",
        "Then drag and drop to the left of this screen and skip to the next celle, or save in your google drive and change the path below to your own drive."
      ]
    },
    {
      "cell_type": "code",
      "metadata": {
        "id": "DCOi5IhNT_hU"
      },
      "source": [
        "# color\n",
        "!cp '/content/drive/My Drive/AI/prednet_private/models/fpsi_500000_20v.model' '.'\n",
        "\n",
        "# black and white\n",
        "# !cp '/content/drive/My Drive/AI/prednet_private/models/black_and_white/300000_wb.model' '.'"
      ],
      "execution_count": null,
      "outputs": []
    },
    {
      "cell_type": "markdown",
      "metadata": {
        "id": "epZObJN7TzjW"
      },
      "source": [
        "Generate illusions. The results will be saved to the \"results\" folder on the left. The first illusions will be bad, and should improve with time. Stop the algorithm whenever you are satistified.\n"
      ]
    },
    {
      "cell_type": "code",
      "metadata": {
        "id": "ysVV244ZT1Jo"
      },
      "source": [
        "!rm -r \"results\"\n",
        "!rm -r \"temp\"\n",
        "\n",
        "# argument '-s': Type of illusion. 0: Bands; 1: Circles (default=0)\n",
        "# %run 'illusion_evolver/generate_illusion.py' -m 'fpsi_500000_20v.model' -s 1 -o './results'\n",
        "\n",
        "# black and white\n",
        "%run 'illusion_evolver/generate_illusion.py' -m '300000_wb.model' -s 1 -c 1 -o './results' --channels \"1,16,32,64\" -g -1"
      ],
      "execution_count": null,
      "outputs": []
    },
    {
      "cell_type": "markdown",
      "metadata": {
        "id": "cL-5BWXaI6wJ"
      },
      "source": [
        "Dowload results by left-click and \"save image as\", or download whole folder.\n",
        "\n"
      ]
    },
    {
      "cell_type": "code",
      "metadata": {
        "id": "Vc8eZuCuJLQJ"
      },
      "source": [
        "# download images\n",
        "!zip -r \"results.zip\" \"results\" \n",
        "from google.colab import files\n",
        "files.download('results.zip') "
      ],
      "execution_count": null,
      "outputs": []
    },
    {
      "cell_type": "markdown",
      "metadata": {
        "id": "YtzBLK5iI1q5"
      },
      "source": [
        "If you want to get the visual flow."
      ]
    },
    {
      "cell_type": "code",
      "metadata": {
        "id": "jaj83PxZe1pT"
      },
      "source": [
        "%run \"illusion_evolver/optical_flow/optical_flow.py\" \"debug/0000000004.png\" \"debug/0000000005_extended.png\" -s 0 -l 1 -cc yellow -lc red -s 2 -l 2 -vs 60.0"
      ],
      "execution_count": null,
      "outputs": []
    }
  ]
}